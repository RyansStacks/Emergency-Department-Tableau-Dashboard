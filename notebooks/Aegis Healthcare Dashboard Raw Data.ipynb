{
 "cells": [
  {
   "cell_type": "markdown",
   "id": "e5f1032d-9dde-4699-9657-d8ec3af3e3ba",
   "metadata": {},
   "source": [
    "# Aegis Healthcare Enterprise Dashboards Raw Data"
   ]
  },
  {
   "cell_type": "code",
   "execution_count": 1,
   "id": "5557809b-331c-46fe-9fd6-7185d5a311c8",
   "metadata": {},
   "outputs": [],
   "source": [
    "import pandas as pd\n",
    "import numpy as np\n",
    "import matplotlib.pyplot as plt \n",
    "import scipy \n",
    "import random\n",
    "import time"
   ]
  },
  {
   "cell_type": "markdown",
   "id": "49366a3a-3798-428e-ae85-3d063c326d8d",
   "metadata": {},
   "source": [
    "## Auxillary Functions"
   ]
  },
  {
   "cell_type": "markdown",
   "id": "c373d7e6-fd48-4a6b-85e4-e3361d5d8fa3",
   "metadata": {},
   "source": [
    "### Create an Array of N Datetimes Between Two Dates"
   ]
  },
  {
   "cell_type": "code",
   "execution_count": 2,
   "id": "d0812fa2-c038-4078-91eb-cdc48341966c",
   "metadata": {},
   "outputs": [],
   "source": [
    "def random_dates(start, end, n, unit='D', seed=None):\n",
    "    if not seed:  # from piR's answer\n",
    "        np.random.seed(0)\n",
    "\n",
    "    ndays = (end - start).days + 1\n",
    "    return pd.to_timedelta(np.random.rand(n) * ndays, unit=unit) + start"
   ]
  },
  {
   "cell_type": "markdown",
   "id": "87ccac48-5869-4a7e-95e1-8a262d90dcd2",
   "metadata": {},
   "source": [
    "## Global Tables"
   ]
  },
  {
   "cell_type": "code",
   "execution_count": 603,
   "id": "cb695959-7bdd-4d60-ad89-67fb242490ba",
   "metadata": {},
   "outputs": [],
   "source": [
    "# Surveys -  Complete\n",
    "Surveys = pd.DataFrame(\n",
    "    {\n",
    "'survey_id' : np.arange(1,40001),\n",
    "'survey_overall_score' : random.choices([1,2,3,4,5], [2000,5000,20000,8000,5000],k=40000),\n",
    "'survey_waiting_score' : random.choices([1,2,3,4,5], [2000,5000,20000,7000,6000],k=40000)\n",
    "    }\n",
    ")\n",
    "Surveys.to_csv('Surveys.csv', index=False)"
   ]
  },
  {
   "cell_type": "code",
   "execution_count": 612,
   "id": "346d19cc-d3ba-4a3c-81a3-1078729391d1",
   "metadata": {},
   "outputs": [
    {
     "data": {
      "text/plain": [
       "40000"
      ]
     },
     "execution_count": 612,
     "metadata": {},
     "output_type": "execute_result"
    }
   ],
   "source": [
    "len(Surveys)"
   ]
  },
  {
   "cell_type": "code",
   "execution_count": 616,
   "id": "c5f4c521-9550-40b8-8884-6bef9a51e9a4",
   "metadata": {},
   "outputs": [],
   "source": [
    "# Scores -  Complete \n",
    "Scores = pd.DataFrame(\n",
    "    {\n",
    "'ed_score_id' : np.arange(1,100001) ,\n",
    "'APACHE_II_score' : list(np.repeat(np.arange(1,10),1000)) + list(np.repeat(np.arange(11,50),2000)) + list(np.repeat(np.arange(51,71),650)),\n",
    "'ESI_score' : [1]*10000 +  [2]*40000 + [3]*40000 + [4]*5000 + [5]*5000 \n",
    "    }\n",
    ")\n",
    "Scores.to_csv('Scores.csv', index=False)"
   ]
  },
  {
   "cell_type": "code",
   "execution_count": 618,
   "id": "633fe579-388e-48ca-8ee0-4f6b1dbfd90e",
   "metadata": {},
   "outputs": [
    {
     "data": {
      "text/plain": [
       "100000"
      ]
     },
     "execution_count": 618,
     "metadata": {},
     "output_type": "execute_result"
    }
   ],
   "source": [
    "len(Scores)"
   ]
  },
  {
   "cell_type": "code",
   "execution_count": 622,
   "id": "9910e477-6953-4b76-b220-9984ac4a43c0",
   "metadata": {},
   "outputs": [],
   "source": [
    "# Patients -  Completed\n",
    "Patients = pd.DataFrame(\n",
    "    {\n",
    "'patient_id': np.arange(1,70001) ,\n",
    "'atient_age' : np.random.gamma(50, 1, 70000),\n",
    "'patient_lat' : random.choices([float('40.' + str(i)) for i in range(745,792)], k=70000),\n",
    "'patient_long' : random.choices([float('-73.' + str(i)) for i in range(663,731)], k=70000),\n",
    "'patient_race' : random.choices(['white','black','asian','native/oceanic',\n",
    "                               'mixed race', 'patient declined'], [50000,10000,8000,500,1000,500], k=70000),\n",
    "'patient_homeless' : random.choices(['No','Yes'], [98,2],k=70000)\n",
    "    }\n",
    ")\n",
    "Patients.to_csv('Patients.csv', index=False)"
   ]
  },
  {
   "cell_type": "code",
   "execution_count": 624,
   "id": "8036d1c0-8c5e-47a0-aee1-c3bc4a3a156d",
   "metadata": {},
   "outputs": [
    {
     "data": {
      "text/plain": [
       "70000"
      ]
     },
     "execution_count": 624,
     "metadata": {},
     "output_type": "execute_result"
    }
   ],
   "source": [
    "len(Patients)"
   ]
  },
  {
   "cell_type": "code",
   "execution_count": 723,
   "id": "ed99fbe1-97c1-443b-b6ec-67a4abcfb5c4",
   "metadata": {},
   "outputs": [],
   "source": [
    "# Staff on per Visit  -  Complete\n",
    "Provider_Visits = pd.DataFrame(\n",
    "    {\n",
    "'visit_id' : list(np.arange(1,1000001)) * 6 ,\n",
    "'provider_id' : random.choices(random.choices(np.arange(1,10),k=2) + random.choices(np.arange(11,50),k=4), k=6000000)\n",
    "    }\n",
    ")\n",
    "Provider_Visits.to_csv('Provider_Visits.csv', index=False)"
   ]
  },
  {
   "cell_type": "code",
   "execution_count": 630,
   "id": "2c6441a2-cf83-4993-a7bd-5bd35508c6f9",
   "metadata": {},
   "outputs": [
    {
     "data": {
      "text/plain": [
       "6000000"
      ]
     },
     "execution_count": 630,
     "metadata": {},
     "output_type": "execute_result"
    }
   ],
   "source": [
    "len(Provider_Visits)"
   ]
  },
  {
   "cell_type": "code",
   "execution_count": 5,
   "id": "0260fba4-4e02-49fb-8c36-3ecc8865fd0d",
   "metadata": {},
   "outputs": [],
   "source": [
    "# Providers  -  Complete\n",
    "Providers = pd.DataFrame(\n",
    "    {\n",
    "'provider_id' : np.arange(1,51),\n",
    "'provider_role' : ['MD']*5 + ['PA']*5 + ['RN']*40\n",
    "    }\n",
    ")\n",
    "Providers.to_csv('Providers.csv', index=False)"
   ]
  },
  {
   "cell_type": "code",
   "execution_count": 7,
   "id": "7b6d57bd-84f5-4762-b032-9a9c36c354ff",
   "metadata": {},
   "outputs": [
    {
     "data": {
      "text/plain": [
       "50"
      ]
     },
     "execution_count": 7,
     "metadata": {},
     "output_type": "execute_result"
    }
   ],
   "source": [
    "len(Providers)"
   ]
  },
  {
   "cell_type": "code",
   "execution_count": 639,
   "id": "b256d67d-0fb6-4bf4-94ab-e86247255857",
   "metadata": {},
   "outputs": [],
   "source": [
    "# Referrals\n",
    "Referrals = pd.DataFrame(\n",
    "    {\n",
    "'referral_id' : np.arange(1,40001) ,\n",
    "'referral_name' : random.choices(['Primary Care','Orthopedics', 'Neurology', 'Addiction Medicine', \n",
    "                                'Gastroenterology', 'Cardiology'], [15000,10000,5000,1000,4000,5000], k=40000)\n",
    "    }\n",
    ")\n",
    "Referrals.to_csv('Referrals.csv', index=False)"
   ]
  },
  {
   "cell_type": "code",
   "execution_count": 641,
   "id": "a31c68a8-5073-4c1a-b60d-060e1a1d9739",
   "metadata": {},
   "outputs": [
    {
     "data": {
      "text/plain": [
       "40000"
      ]
     },
     "execution_count": 641,
     "metadata": {},
     "output_type": "execute_result"
    }
   ],
   "source": [
    "len(Referrals)"
   ]
  },
  {
   "cell_type": "code",
   "execution_count": 643,
   "id": "b2065909-d041-4d7a-a363-fe10b91ab2af",
   "metadata": {},
   "outputs": [],
   "source": [
    "# Referral Benchmarks per Year\n",
    "Referral_Benchmarks = pd.DataFrame(\n",
    "    {\n",
    "'referral_benchmark_id' : np.arange(1,19),\n",
    "'referral_name' : ['Primary Care','Orthopedics', 'Neurology', 'Addiction Medicine', 'Gastroenterology', 'Cardiology'] * 3,\n",
    "'referral_report_date' : ['2021']*6 + ['2022']*6 + ['2023']*6 ,\n",
    "'referral_pct' : [0.375, 0.27, 0.125, 0.005, 0.1, 0.125,0.395, 0.25, 0.125, 0.004, 0.1, 0.126,0.385, 0.29, 0.121, 0.003, 0.1, 0.101]\n",
    "    }\n",
    ")\n",
    "Referral_Benchmarks.to_csv('Referral_Benchmarks.csv', index=False)"
   ]
  },
  {
   "cell_type": "code",
   "execution_count": 645,
   "id": "8e575a74-fc89-43de-a686-b7888a57785e",
   "metadata": {
    "scrolled": true
   },
   "outputs": [
    {
     "data": {
      "text/plain": [
       "18"
      ]
     },
     "execution_count": 645,
     "metadata": {},
     "output_type": "execute_result"
    }
   ],
   "source": [
    "len(Referral_Benchmarks)"
   ]
  },
  {
   "cell_type": "raw",
   "id": "4d72e8c5-2dcd-4ee0-b573-a3bc9db820b1",
   "metadata": {},
   "source": [
    "# ED Visits with FKs\n",
    "ED_Visits = pd.DataFrame(\n",
    "    {\n",
    "'visit_id' : np.arange(1,100001) ,\n",
    "'ed_score_id' : np.arange(1,100001),\n",
    "'survey_id' : np.arange(1,100001) , # convert all > 40000 to np.nan\n",
    "'referral_id' : np.arange(1,100001) , # convert all > 40000 to np.nan   \n",
    "'patient_id' : random.choices(np.arange(1,700001) , k=100000),\n",
    "'arrival_dt' :  random_dates(pd.to_datetime('2021-01-01'), pd.to_datetime('2024-01-01'), n=100000) ,  \n",
    "'admitted' : random.choices(['No', 'Yes'], weights=[70,30], k=100000)\n",
    "    }\n",
    ")\n",
    "ED_Visits.loc[ED_Visits.referral_id > 40000, 'referral_id' ] = np.nan\n",
    "ED_Visits.loc[ED_Visits.survey_id > 40000, 'survey_id' ] = np.nan\n",
    "ED_Visits['patient_seen_dt'] = ED_Visits['arrival_dt'] + pd.to_timedelta(np.random.gamma(50, 1,len(ED_Visits['arrival_dt']))\n",
    "                                                                         ,unit='minutes')\n",
    "ED_Visits['admission_dt'] = np.where(ED_Visits['admitted'] == 'Yes', ED_Visits['patient_seen_dt']+ pd.to_timedelta(np.random.gamma(50, 1,len(ED_Visits['arrival_dt']))\n",
    "                                                                         ,unit='minutes'), ED_Visits['patient_seen_dt'])\n",
    "ED_Visits.to_csv('ED_Visits.csv', index=False)"
   ]
  },
  {
   "cell_type": "code",
   "execution_count": 35,
   "id": "762cc8ac-c22f-4f7c-92de-7b23ee570f99",
   "metadata": {
    "scrolled": true
   },
   "outputs": [
    {
     "data": {
      "text/plain": [
       "100000"
      ]
     },
     "execution_count": 35,
     "metadata": {},
     "output_type": "execute_result"
    }
   ],
   "source": [
    "len(ED_Visits)"
   ]
  }
 ],
 "metadata": {
  "kernelspec": {
   "display_name": "Python 3 (ipykernel)",
   "language": "python",
   "name": "python3"
  },
  "language_info": {
   "codemirror_mode": {
    "name": "ipython",
    "version": 3
   },
   "file_extension": ".py",
   "mimetype": "text/x-python",
   "name": "python",
   "nbconvert_exporter": "python",
   "pygments_lexer": "ipython3",
   "version": "3.12.4"
  }
 },
 "nbformat": 4,
 "nbformat_minor": 5
}
