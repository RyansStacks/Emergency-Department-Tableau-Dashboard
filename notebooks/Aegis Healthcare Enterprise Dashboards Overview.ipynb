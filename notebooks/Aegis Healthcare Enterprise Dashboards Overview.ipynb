{
 "cells": [
  {
   "cell_type": "markdown",
   "id": "14f81a8f-a022-40c0-9ee3-dceace93f007",
   "metadata": {},
   "source": [
    "[stock image](stock image pathway)"
   ]
  },
  {
   "cell_type": "markdown",
   "id": "06bf4a8c-d216-4109-856e-111b70f21392",
   "metadata": {},
   "source": [
    "# Aegis Healthcare Enterprise Dashboards"
   ]
  },
  {
   "cell_type": "markdown",
   "id": "7ed72a8a-036b-40a8-9df7-6cb7ced3b035",
   "metadata": {},
   "source": [
    "## Background"
   ]
  },
  {
   "cell_type": "markdown",
   "id": "66e283f2-12b5-42bd-91e5-da1969a87a58",
   "metadata": {},
   "source": [
    "## Data"
   ]
  },
  {
   "cell_type": "markdown",
   "id": "00d77ab8-0f44-43e1-a44d-227c3215e26b",
   "metadata": {},
   "source": [
    "### Data Source"
   ]
  },
  {
   "cell_type": "markdown",
   "id": "9836541a-2d2b-43eb-8a2e-925cea95dd91",
   "metadata": {},
   "source": [
    "Data for the project due to privacy issues involving healthcare data has been completely fabricated using Python with some post manipulaiton to inject bias to create trends in the Tableau visualizations. The process of both creating the data as well as emulating trending has been a heuristic experience as one truly starts to know the data when creating it.\n",
    "\n",
    "The following Python script may be used to create the tables needed for the project. Note, one may easily upload into SQL using a GUI based platform such as SSMS that allows automatic table/column creation with .csv files."
   ]
  },
  {
   "cell_type": "markdown",
   "id": "0aab0ea1-ec18-454f-b6b1-25fd44fff91b",
   "metadata": {},
   "source": [
    "### Data Summary"
   ]
  },
  {
   "cell_type": "code",
   "execution_count": 4,
   "id": "16e39cc6-0207-41fd-ba72-bf69f8667c82",
   "metadata": {},
   "outputs": [],
   "source": [
    "import os"
   ]
  },
  {
   "cell_type": "code",
   "execution_count": null,
   "id": "86ab0a09-5996-4b2a-82f3-64b28d8760a5",
   "metadata": {},
   "outputs": [],
   "source": [
    "<ED Data Model.png>"
   ]
  },
  {
   "cell_type": "markdown",
   "id": "44564cb2-22d1-4e61-a4b5-bc2c292e7940",
   "metadata": {},
   "source": [
    "### Using Python Pandas to Create Data"
   ]
  },
  {
   "cell_type": "markdown",
   "id": "174276a7-1075-4ecc-8796-7bf441444152",
   "metadata": {},
   "source": [
    "D:\\Projects\\Aegis Healthcare Enterprise Dashboards\\src\\data.py"
   ]
  },
  {
   "cell_type": "markdown",
   "id": "e09a3171-cb87-4b20-ad53-1d062614c175",
   "metadata": {},
   "source": [
    "## Tableau Dashboard"
   ]
  },
  {
   "cell_type": "markdown",
   "id": "fe07eed4-ee21-4a35-88c3-23e3be53fca6",
   "metadata": {},
   "source": [
    "All the .csv files are combined using Tableau relationships (very similar to SQL joins) with ED Visits serving as the Parent Table:"
   ]
  },
  {
   "cell_type": "code",
   "execution_count": null,
   "id": "0c45c1c5-3a30-43ee-960f-1eff0a3bbcad",
   "metadata": {},
   "outputs": [],
   "source": [
    "<Tableau Data Model.png>"
   ]
  },
  {
   "cell_type": "markdown",
   "id": "d481bf49-9733-475e-9b40-aa1e91d52373",
   "metadata": {},
   "source": [
    "The final product is a Dashboard that staff and leadership may use to confirm trends. Below, we discuss some findings from the Tableau excerpt."
   ]
  },
  {
   "cell_type": "code",
   "execution_count": null,
   "id": "c76d0853-111d-4364-bcd0-c0da07a220b2",
   "metadata": {},
   "outputs": [],
   "source": [
    "<ED Operations.png>"
   ]
  },
  {
   "cell_type": "markdown",
   "id": "ba27cdda-d23b-4464-9b57-ddabcbdbb6a1",
   "metadata": {},
   "source": [
    "### Dashboard Summary"
   ]
  },
  {
   "cell_type": "markdown",
   "id": "76b2a30d-fa00-4206-8870-ce3181e6cb54",
   "metadata": {},
   "source": [
    "##### 1. Average Wait Time Correlate with Poorer Patient Surveys"
   ]
  },
  {
   "cell_type": "markdown",
   "id": "2997209c-909d-4d31-8400-235221017a95",
   "metadata": {},
   "source": [
    "##### 2. APACHE II (patient severity) Typically Corresponds to Homelessness and Older Populations"
   ]
  },
  {
   "cell_type": "markdown",
   "id": "1b559f05-ca8a-47c2-85c5-046288a6a8c1",
   "metadata": {},
   "source": [
    "##### 3. Addiction Medicine Referrals from ED are Signficantly Higher Compared to Other Hospitals (Benchmarks)"
   ]
  },
  {
   "cell_type": "markdown",
   "id": "461704cd-a9ba-403c-8287-b2320d51feee",
   "metadata": {},
   "source": [
    "##### 4. Wait Times are Very High on Weekends and in Summer"
   ]
  },
  {
   "cell_type": "markdown",
   "id": "6e800eef-296f-4bfa-a08e-4c0633ad0b20",
   "metadata": {},
   "source": [
    "##### 5. The Emergency Department Serves a Typical Demographics Minus a More Older Population with Median Age of 44"
   ]
  },
  {
   "cell_type": "markdown",
   "id": "85c51f12-0ad4-46a5-a604-0dc247ddf430",
   "metadata": {},
   "source": [
    "A link to the Dashboard on Tableau Public may be found:\n",
    "\n",
    "https://public.tableau.com/app/profile/ryan.breen8189/viz/AegisHealthcareEnterpriseEDDashboard/EDOperations?publish=yes"
   ]
  }
 ],
 "metadata": {
  "kernelspec": {
   "display_name": "Python 3 (ipykernel)",
   "language": "python",
   "name": "python3"
  },
  "language_info": {
   "codemirror_mode": {
    "name": "ipython",
    "version": 3
   },
   "file_extension": ".py",
   "mimetype": "text/x-python",
   "name": "python",
   "nbconvert_exporter": "python",
   "pygments_lexer": "ipython3",
   "version": "3.12.4"
  }
 },
 "nbformat": 4,
 "nbformat_minor": 5
}
